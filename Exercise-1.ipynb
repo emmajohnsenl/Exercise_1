{
 "cells": [
  {
   "cell_type": "code",
   "execution_count": 36,
   "id": "95c27e06-d77c-42f0-8b3f-fad3ee3095a2",
   "metadata": {},
   "outputs": [],
   "source": [
    "ice_cream_rating = 10\n",
    "sleeping_rating = 7"
   ]
  },
  {
   "cell_type": "code",
   "execution_count": 37,
   "id": "47c94c92-3c61-4690-b123-3fca8d754669",
   "metadata": {},
   "outputs": [],
   "source": [
    "first_name = \"Emma\"\n",
    "last_name = \"Johnsen\"\n",
    "my_name = (first_name, last_name)"
   ]
  },
  {
   "cell_type": "code",
   "execution_count": 38,
   "id": "73e4058b-d6fe-4d4e-a884-c9a300ab3b09",
   "metadata": {},
   "outputs": [],
   "source": [
    "happiness_rating = (ice_cream_rating + sleeping_rating) / 2"
   ]
  },
  {
   "cell_type": "code",
   "execution_count": 39,
   "id": "cea88340-ffe3-4bfd-bc8a-ca75fbd06bc2",
   "metadata": {
    "panel-layout": {
     "height": 0,
     "visible": true,
     "width": 100
    }
   },
   "outputs": [
    {
     "name": "stdout",
     "output_type": "stream",
     "text": [
      "My name is ('Emma', 'Johnsen') and my overall happiness is 8.5\n"
     ]
    }
   ],
   "source": [
    "print (\"My name is\", my_name, \"and my overall happiness is\", happiness_rating)"
   ]
  },
  {
   "cell_type": "markdown",
   "id": "3dde4ca2-dba8-4bf8-8c10-322b038c885f",
   "metadata": {},
   "source": [
    "All the answers make sense, and the data types were as expected"
   ]
  },
  {
   "cell_type": "code",
   "execution_count": 40,
   "id": "2bee7131-6106-4206-a285-ca26b65af8a9",
   "metadata": {},
   "outputs": [
    {
     "name": "stdout",
     "output_type": "stream",
     "text": [
      "My name is Emma and i rate ice cream a 10 out of 10\n",
      "My name is ('Emma', 'Johnsen') and i rate sleeping a 7 out of 10\n",
      "My overall happiness is 8.5 out of 10\n"
     ]
    }
   ],
   "source": [
    "print (\"My name is\", first_name, \"and i rate ice cream a\", ice_cream_rating, \"out of 10\")\n",
    "print (\"My name is\", my_name, \"and i rate sleeping a\", sleeping_rating, \"out of 10\")\n",
    "print (\"My overall happiness is\", happiness_rating, \"out of 10\")"
   ]
  },
  {
   "cell_type": "code",
   "execution_count": null,
   "id": "571417da-8c23-4ffa-96ac-f0929b120fbd",
   "metadata": {},
   "outputs": [],
   "source": []
  }
 ],
 "metadata": {
  "kernelspec": {
   "display_name": "Python 3 (ipykernel)",
   "language": "python",
   "name": "python3"
  },
  "language_info": {
   "codemirror_mode": {
    "name": "ipython",
    "version": 3
   },
   "file_extension": ".py",
   "mimetype": "text/x-python",
   "name": "python",
   "nbconvert_exporter": "python",
   "pygments_lexer": "ipython3",
   "version": "3.11.6"
  },
  "panel-cell-order": [
   "cea88340-ffe3-4bfd-bc8a-ca75fbd06bc2"
  ]
 },
 "nbformat": 4,
 "nbformat_minor": 5
}
